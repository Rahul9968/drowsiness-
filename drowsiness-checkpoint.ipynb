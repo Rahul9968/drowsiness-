{
 "cells": [
  {
   "cell_type": "code",
   "execution_count": 1,
   "id": "c9175760-8269-4c34-91e1-f4e0a54cdd45",
   "metadata": {},
   "outputs": [
    {
     "name": "stdout",
     "output_type": "stream",
     "text": [
      "Requirement already satisfied: dlib in c:\\users\\rahul\\appdata\\local\\programs\\python\\python312\\lib\\site-packages (19.24.6)\n",
      "Note: you may need to restart the kernel to use updated packages.\n"
     ]
    }
   ],
   "source": [
    "pip install dlib #download visual studio and pip install cmake"
   ]
  },
  {
   "cell_type": "code",
   "execution_count": null,
   "id": "08c8ff03-9cfe-4bf3-a76b-154a62725067",
   "metadata": {},
   "outputs": [],
   "source": [
    "import cv2\n",
    "import dlib\n",
    "import pyttsx3\n",
    "from scipy.spatial import distance\n",
    "\n",
    "engine = pyttsx3.init()\n",
    "\n",
    "cap = cv2.VideoCapture(0)\n",
    "\n",
    "\n",
    "face_detector = dlib.get_frontal_face_detector()\n",
    "\n",
    "\n",
    "dlib_facelandmark = dlib.shape_predictor(\"shape_predictor_68_face_landmarks.dat\")\n",
    "\n",
    "\n",
    "\n",
    "def Detect_Eye(eye):\n",
    "    poi_A = distance.euclidean(eye[1],eye[5])\n",
    "    poi_B = distance.euclidean(eye[2],eye[4])\n",
    "    poi_c = distance.euclidean(eye[0],eye[3])\n",
    "    aspect_ratio_Eye = (poi_A+poi_B)/(2*poi_c)\n",
    "    return aspect_ratio_Eye\n",
    "\n",
    "\n",
    "while True:\n",
    "    null,frame = cap.read()\n",
    "    gray_scale = cv2.cvtColor(frame,cv2.COLOR_BGR2GRAY)\n",
    "\n",
    "    faces = face_detector(gray_scale)\n",
    "    for faces in faces:\n",
    "        face_landmarks = dlib_facelandmark(gray_scale,faces)\n",
    "        leftEye = []\n",
    "        rightEye = []\n",
    "\n",
    "\n",
    "        for n in range(42,48):\n",
    "            x = face_landmarks.part(n).x\n",
    "            y = face_landmarks.part(n).y\n",
    "            rightEye.append((x,y))\n",
    "            next_point = n+1\n",
    "            if n==47:\n",
    "                next_position = 42\n",
    "            x2 = face_landmarks.part(next_point).x\n",
    "            y2 = face_landmarks.part(next_point).y\n",
    "            cv2.line(frame,(x,y),(x2,y2),(0,255,0),1)\n",
    "\n",
    "        for n in range(36,42):\n",
    "            x = face_landmarks.part(n).x\n",
    "            y = face_landmarks.part(n).y\n",
    "            leftEye.append((x,y))\n",
    "            next_point  = n+1\n",
    "            if n==41:\n",
    "                next_point = 36\n",
    "            x2 = face_landmarks.part(next_point).x\n",
    "            y2 = face_landmarks.part(next_point).y\n",
    "            cv2.line(frame,(x,y),(x2,y2),(255,255,0),1)\n",
    "        right_Eye = Detect_Eye(rightEye)\n",
    "        left_Eye = Detect_Eye(leftEye)\n",
    "        Eye_Rat = (left_Eye+right_Eye)/2\n",
    "        Eye_Rat  = round(Eye_Rat,2)\n",
    "\n",
    "        if Eye_Rat<0.25:\n",
    "            cv2.putText(frame,\"DROWSINESS DETECTED\",(50,100),\n",
    "                       cv2.FONT_HERSHEY_PLAIN,2,(21,56,210),3)\n",
    "            cv2.putText(frame,\"ALERT!\",(50,450),\n",
    "                       cv2.FONT_HERSHEY_PLAIN,2,(21,56,210),3)\n",
    "            engine.say(\"ALERT!!!! WAKE UP\")\n",
    "            engine.runAndWait()\n",
    "    cv2.imshow(\"Drowsiness DETECTION IN OPENCV2\",frame)\n",
    "    key = cv2.waitKey(1)\n",
    "    if key  ==20:\n",
    "        break\n",
    "cap.release ()\n",
    "cv2.destroyAllWindd"
   ]
  },
  {
   "cell_type": "markdown",
   "id": "e9b1f96f-3b5a-468e-8f4f-ef8dc46e688d",
   "metadata": {},
   "source": []
  }
 ],
 "metadata": {
  "kernelspec": {
   "display_name": "Python 3 (ipykernel)",
   "language": "python",
   "name": "python3"
  },
  "language_info": {
   "codemirror_mode": {
    "name": "ipython",
    "version": 3
   },
   "file_extension": ".py",
   "mimetype": "text/x-python",
   "name": "python",
   "nbconvert_exporter": "python",
   "pygments_lexer": "ipython3",
   "version": "3.12.8"
  }
 },
 "nbformat": 4,
 "nbformat_minor": 5
}
